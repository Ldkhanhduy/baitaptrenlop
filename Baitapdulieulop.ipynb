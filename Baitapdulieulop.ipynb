{
  "nbformat": 4,
  "nbformat_minor": 0,
  "metadata": {
    "colab": {
      "name": "Baitapdulieulop.ipynb",
      "provenance": [],
      "authorship_tag": "ABX9TyP/ucn6w5UwbSOD4eFdmG64",
      "include_colab_link": true
    },
    "kernelspec": {
      "name": "python3",
      "display_name": "Python 3"
    },
    "language_info": {
      "name": "python"
    }
  },
  "cells": [
    {
      "cell_type": "markdown",
      "metadata": {
        "id": "view-in-github",
        "colab_type": "text"
      },
      "source": [
        "<a href=\"https://colab.research.google.com/github/Ldkhanhduy/baitaptrenlop/blob/main/Baitapdulieulop.ipynb\" target=\"_parent\"><img src=\"https://colab.research.google.com/assets/colab-badge.svg\" alt=\"Open In Colab\"/></a>"
      ]
    },
    {
      "cell_type": "code",
      "metadata": {
        "id": "V7UESZOqEfnM"
      },
      "source": [
        "list1=['physics', 'chemistry', 1997, 2000]\n",
        "list2=[1, 2, 3, 4, 5, 6, 7]\n",
        "list3=[\"a\", \"b\", \"c\", \"d\"]\n",
        "\n"
      ],
      "execution_count": null,
      "outputs": []
    },
    {
      "cell_type": "code",
      "metadata": {
        "colab": {
          "base_uri": "https://localhost:8080/"
        },
        "id": "1uylSc1oL6hX",
        "outputId": "41863b38-c315-463a-c8f9-1b61cd36cee4"
      },
      "source": [
        "print(\"list1[0]:\", list1[0])\n",
        "print(\"list2[1:5]:\", list2[1:5])\n"
      ],
      "execution_count": null,
      "outputs": [
        {
          "output_type": "stream",
          "name": "stdout",
          "text": [
            "list1[0]: physics\n",
            "list2[1:5]: [2, 3, 4, 5]\n"
          ]
        }
      ]
    },
    {
      "cell_type": "code",
      "metadata": {
        "colab": {
          "base_uri": "https://localhost:8080/"
        },
        "id": "aUNvnsA0MOI8",
        "outputId": "34f2e1bf-cc46-4aa5-a5ea-8e4c31f76b1c"
      },
      "source": [
        "list1[2]=2001\n",
        "print(\"gia tri thu ba moi:\", list1[2])"
      ],
      "execution_count": null,
      "outputs": [
        {
          "output_type": "stream",
          "name": "stdout",
          "text": [
            "gia tri thu ba moi: 2001\n"
          ]
        }
      ]
    },
    {
      "cell_type": "code",
      "metadata": {
        "colab": {
          "base_uri": "https://localhost:8080/"
        },
        "id": "caAcF_GhMjJ1",
        "outputId": "6e965de6-1333-462f-fa36-092a3914f5ac"
      },
      "source": [
        "del list1[2]\n",
        "print(\"gia tri thu ba da bi xoa:\", list1)"
      ],
      "execution_count": null,
      "outputs": [
        {
          "output_type": "stream",
          "name": "stdout",
          "text": [
            "gia tri thu ba da bi xoa: ['physics', 'chemistry']\n"
          ]
        }
      ]
    },
    {
      "cell_type": "code",
      "metadata": {
        "colab": {
          "base_uri": "https://localhost:8080/"
        },
        "id": "30uJeWNhMvXL",
        "outputId": "de182cfa-e444-46f3-a4ea-7384c8798329"
      },
      "source": [
        "print(len(list2))\n",
        "list4=list1+list2\n",
        "print(list4)\n",
        "2 in list2"
      ],
      "execution_count": null,
      "outputs": [
        {
          "output_type": "stream",
          "name": "stdout",
          "text": [
            "7\n",
            "['physics', 'chemistry', 1, 2, 3, 4, 5, 6, 7]\n"
          ]
        },
        {
          "output_type": "execute_result",
          "data": {
            "text/plain": [
              "True"
            ]
          },
          "metadata": {},
          "execution_count": 9
        }
      ]
    },
    {
      "cell_type": "code",
      "metadata": {
        "colab": {
          "base_uri": "https://localhost:8080/"
        },
        "id": "mkGtjmRYNYSC",
        "outputId": "7589ffc3-df0b-4482-cb54-687cc25d1ed6"
      },
      "source": [
        "print(list2[2:-2])\n",
        "print(list1[2:])\n",
        "print(list3[:2])"
      ],
      "execution_count": null,
      "outputs": [
        {
          "output_type": "stream",
          "name": "stdout",
          "text": [
            "[3, 4, 5]\n"
          ]
        }
      ]
    },
    {
      "cell_type": "code",
      "metadata": {
        "colab": {
          "base_uri": "https://localhost:8080/"
        },
        "id": "CqS36464NmpH",
        "outputId": "d22e17a1-c145-4076-83bc-e1f72eb581b9"
      },
      "source": [
        "tup1=('physics', 'chemistry', 1997, 2007)\n",
        "tup2=(1, 2, 3, 4, 5, 6, 7)\n",
        "print(tup2[2:4])"
      ],
      "execution_count": null,
      "outputs": [
        {
          "output_type": "stream",
          "name": "stdout",
          "text": [
            "(3, 4)\n"
          ]
        }
      ]
    },
    {
      "cell_type": "code",
      "metadata": {
        "colab": {
          "base_uri": "https://localhost:8080/"
        },
        "id": "kXBq3PeQOTl5",
        "outputId": "9d414782-2018-41db-b06a-276b798e9d08"
      },
      "source": [
        "tup3=tup1+tup2\n",
        "print(tup3)"
      ],
      "execution_count": null,
      "outputs": [
        {
          "output_type": "stream",
          "name": "stdout",
          "text": [
            "('physics', 'chemistry', 1997, 2007, 1, 2, 3, 4, 5, 6, 7)\n"
          ]
        }
      ]
    },
    {
      "cell_type": "code",
      "metadata": {
        "colab": {
          "base_uri": "https://localhost:8080/",
          "height": 217
        },
        "id": "2UXms7hLOZTw",
        "outputId": "9102fa29-1bf4-4da3-95b2-e64f181b09ec"
      },
      "source": [
        "tup=('Toan', 'van', 'Anh')\n",
        "print(tup)\n",
        "del tup\n",
        "print(tup) #gap loi vi khong ton tai"
      ],
      "execution_count": null,
      "outputs": [
        {
          "output_type": "stream",
          "name": "stdout",
          "text": [
            "('Toan', 'van', 'Anh')\n"
          ]
        },
        {
          "output_type": "error",
          "ename": "NameError",
          "evalue": "ignored",
          "traceback": [
            "\u001b[0;31m---------------------------------------------------------------------------\u001b[0m",
            "\u001b[0;31mNameError\u001b[0m                                 Traceback (most recent call last)",
            "\u001b[0;32m<ipython-input-16-b8b74975a2c8>\u001b[0m in \u001b[0;36m<module>\u001b[0;34m()\u001b[0m\n\u001b[1;32m      2\u001b[0m \u001b[0mprint\u001b[0m\u001b[0;34m(\u001b[0m\u001b[0mtup\u001b[0m\u001b[0;34m)\u001b[0m\u001b[0;34m\u001b[0m\u001b[0;34m\u001b[0m\u001b[0m\n\u001b[1;32m      3\u001b[0m \u001b[0;32mdel\u001b[0m \u001b[0mtup\u001b[0m\u001b[0;34m\u001b[0m\u001b[0;34m\u001b[0m\u001b[0m\n\u001b[0;32m----> 4\u001b[0;31m \u001b[0mprint\u001b[0m\u001b[0;34m(\u001b[0m\u001b[0mtup\u001b[0m\u001b[0;34m)\u001b[0m\u001b[0;34m\u001b[0m\u001b[0;34m\u001b[0m\u001b[0m\n\u001b[0m",
            "\u001b[0;31mNameError\u001b[0m: name 'tup' is not defined"
          ]
        }
      ]
    },
    {
      "cell_type": "code",
      "metadata": {
        "id": "64B659_dO5Qz"
      },
      "source": [
        ""
      ],
      "execution_count": null,
      "outputs": []
    },
    {
      "cell_type": "code",
      "metadata": {
        "colab": {
          "base_uri": "https://localhost:8080/"
        },
        "id": "j-0vtNv1O5Zt",
        "outputId": "3fc41b2d-e64e-4094-cce8-f33832ed455b"
      },
      "source": [
        "dict1={\"Name\": \"Duy\", \"Age\": 18, \"Class\": \"K2\"}\n",
        "print('dict[\"Name\"]:', dict1[\"Name\"])"
      ],
      "execution_count": null,
      "outputs": [
        {
          "output_type": "stream",
          "name": "stdout",
          "text": [
            "dict[\"Name\"]: Duy\n"
          ]
        }
      ]
    },
    {
      "cell_type": "code",
      "metadata": {
        "colab": {
          "base_uri": "https://localhost:8080/"
        },
        "id": "ATFB3fHnPkW5",
        "outputId": "f3f7da2a-4486-4d69-cda1-4a89b55e5df8"
      },
      "source": [
        "dict1[\"Age\"]= 19\n",
        "print('dict1[\"Age]:', dict1[\"Age\"])"
      ],
      "execution_count": null,
      "outputs": [
        {
          "output_type": "stream",
          "name": "stdout",
          "text": [
            "dict1[\"Age]: 19\n"
          ]
        }
      ]
    },
    {
      "cell_type": "code",
      "metadata": {
        "id": "WwfytrjmP56q"
      },
      "source": [
        "dict3={\"a\": \"A\", \"b\": \"B\", \"c\": \"C\", \"d\": \"D\", \"e\": \"E\"}\n",
        "del dict3[\"e\"]\n",
        "print(dict3)\n",
        "dict3.clear()\n",
        "print(dict3)\n",
        "del dict3 #gap loi vi khong con ton tai\n",
        "print(dict3)"
      ],
      "execution_count": null,
      "outputs": []
    },
    {
      "cell_type": "code",
      "metadata": {
        "colab": {
          "base_uri": "https://localhost:8080/"
        },
        "id": "pEUsibRuQ1Ht",
        "outputId": "7192fecf-dcbe-4604-abf8-4d612ab441b5"
      },
      "source": [
        "Set = set([\"a\", \"b\", \"c\"]) \n",
        "print(\"Set: \") \n",
        "print(Set) \n",
        "# Adding element to the set \n",
        "Set.add(\"d\") \n",
        "print(\"\\nSet after adding: \") \n",
        "print(Set) "
      ],
      "execution_count": null,
      "outputs": [
        {
          "output_type": "stream",
          "name": "stdout",
          "text": [
            "Set: \n",
            "{'a', 'c', 'b'}\n",
            "\n",
            "Set after adding: \n",
            "{'a', 'c', 'b', 'd'}\n"
          ]
        }
      ]
    },
    {
      "cell_type": "code",
      "metadata": {
        "id": "qmURqllEQ5mR"
      },
      "source": [
        "people = {\"Jay\", \"Idrish\", \"Archi\"} \n",
        "print(\"People: \") \n",
        "print(people) \n",
        "people.add(\"Daxit\") \n",
        "for i in range(1, 6): \n",
        "people.add(i) \n",
        "print(\"\\nSet after adding element:\", end = \" \") print(people) "
      ],
      "execution_count": null,
      "outputs": []
    },
    {
      "cell_type": "code",
      "metadata": {
        "id": "GHL8o8ClQ87x"
      },
      "source": [
        "Days=set([\"Mon\",\"Tue\",\"Wed\",\"Thu\",\"Fri\",\"Sat\"]) Days.discard(\"Sun\") \n",
        "print(Days) "
      ],
      "execution_count": null,
      "outputs": []
    },
    {
      "cell_type": "code",
      "metadata": {
        "colab": {
          "base_uri": "https://localhost:8080/"
        },
        "id": "9P9bcQgxRBDP",
        "outputId": "38f2320f-9b58-45b3-9c09-e794636196d7"
      },
      "source": [
        "set1 = {1,2,3,4,5,6} \n",
        "print(\"Initial set\") \n",
        "print(set1) \n",
        "set1.clear() \n",
        "print(\"\\nSet after using clear() function\") "
      ],
      "execution_count": null,
      "outputs": [
        {
          "output_type": "stream",
          "name": "stdout",
          "text": [
            "Initial set\n",
            "{1, 2, 3, 4, 5, 6}\n",
            "\n",
            "Set after using clear() function\n"
          ]
        }
      ]
    },
    {
      "cell_type": "code",
      "metadata": {
        "colab": {
          "base_uri": "https://localhost:8080/"
        },
        "id": "4E1RaGl1RG5K",
        "outputId": "61227cd3-40c4-4d09-d372-828de935a53c"
      },
      "source": [
        "people = {\"Jay\", \"Idrish\", \"Archil\"} \n",
        "vampires = {\"Karan\", \"Arjun\"} \n",
        "dracula = {\"Deepanshu\", \"Raju\"} \n",
        "# Union using union() function \n",
        "population = people.union(vampires) \n",
        "print(\"Union using union() function\") \n",
        "print(population) \n",
        "# Union using \"|\" operator \n",
        "population = people|dracula \n",
        "print(\"\\nUnion using '|' operator\") \n",
        "print(population) \n",
        "#Union using union() function \n",
        "#{'Jay', 'Karan', 'Idrish', 'Arjun', 'Archil'} #Union using '|' operator \n",
        "#{'Jay', 'Raju', 'Deepanshu', 'Idrish', 'Archil'} \n"
      ],
      "execution_count": null,
      "outputs": [
        {
          "output_type": "stream",
          "name": "stdout",
          "text": [
            "Union using union() function\n",
            "{'Karan', 'Archil', 'Arjun', 'Idrish', 'Jay'}\n",
            "\n",
            "Union using '|' operator\n",
            "{'Deepanshu', 'Archil', 'Raju', 'Idrish', 'Jay'}\n"
          ]
        }
      ]
    },
    {
      "cell_type": "code",
      "metadata": {
        "id": "_Ow1vfNKRL0U"
      },
      "source": [
        "DaysA = set([\"Mon\",\"Tue\",\"Wed\"]) \n",
        "DaysB = set([\"Mon\",\"Tue\",\"Wed\",\"Thu\",\"Fri\",\"Sat\",\"Sun\"]) SubsetRes = DaysA <= DaysB \n",
        "SupersetRes = DaysB >= DaysA \n",
        "print(SubsetRes) \n",
        "print(SupersetRes) "
      ],
      "execution_count": null,
      "outputs": []
    },
    {
      "cell_type": "code",
      "metadata": {
        "colab": {
          "base_uri": "https://localhost:8080/"
        },
        "id": "AfcGH8wcRRRr",
        "outputId": "578956b8-88cf-42fb-ca9e-035b8f7fd186"
      },
      "source": [
        "import time; \n",
        "localtime = time.asctime( time.localtime(time.time()) ) \n",
        "print(\"Local current time :\", localtime) "
      ],
      "execution_count": null,
      "outputs": [
        {
          "output_type": "stream",
          "name": "stdout",
          "text": [
            "Local current time : Thu Sep 30 01:15:22 2021\n"
          ]
        }
      ]
    },
    {
      "cell_type": "code",
      "metadata": {
        "id": "LEA3HNSqRTyf",
        "colab": {
          "base_uri": "https://localhost:8080/"
        },
        "outputId": "aba1bf4b-3d02-4d64-d7d1-02cc155ce983"
      },
      "source": [
        "import calendar \n",
        "cal = calendar.month(2008, 1) \n",
        "print(\"Here is the calendar:\") \n",
        "print(cal) "
      ],
      "execution_count": null,
      "outputs": [
        {
          "output_type": "stream",
          "name": "stdout",
          "text": [
            "Here is the calendar:\n",
            "    January 2008\n",
            "Mo Tu We Th Fr Sa Su\n",
            "    1  2  3  4  5  6\n",
            " 7  8  9 10 11 12 13\n",
            "14 15 16 17 18 19 20\n",
            "21 22 23 24 25 26 27\n",
            "28 29 30 31\n",
            "\n"
          ]
        }
      ]
    }
  ]
}